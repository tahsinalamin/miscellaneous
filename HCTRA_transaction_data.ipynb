{
 "cells": [
  {
   "cell_type": "code",
   "execution_count": 2,
   "metadata": {},
   "outputs": [],
   "source": [
    "import pandas as pd\n",
    "import numpy as np"
   ]
  },
  {
   "cell_type": "code",
   "execution_count": 3,
   "metadata": {},
   "outputs": [],
   "source": [
    "df = pd.read_excel(\"/Users/tahsin/Documents/HCTRA/Transactions_by_date_type_loc.xlsx\")"
   ]
  },
  {
   "cell_type": "code",
   "execution_count": 4,
   "metadata": {},
   "outputs": [
    {
     "data": {
      "text/html": [
       "<div>\n",
       "<style scoped>\n",
       "    .dataframe tbody tr th:only-of-type {\n",
       "        vertical-align: middle;\n",
       "    }\n",
       "\n",
       "    .dataframe tbody tr th {\n",
       "        vertical-align: top;\n",
       "    }\n",
       "\n",
       "    .dataframe thead th {\n",
       "        text-align: right;\n",
       "    }\n",
       "</style>\n",
       "<table border=\"1\" class=\"dataframe\">\n",
       "  <thead>\n",
       "    <tr style=\"text-align: right;\">\n",
       "      <th></th>\n",
       "      <th>TXN_DATE_15_MIN</th>\n",
       "      <th>TRANSACTION_TYPE</th>\n",
       "      <th>PLAZA_NAME</th>\n",
       "      <th>TRANSACTION_COUNT</th>\n",
       "    </tr>\n",
       "  </thead>\n",
       "  <tbody>\n",
       "    <tr>\n",
       "      <th>0</th>\n",
       "      <td>2020-01-01</td>\n",
       "      <td>TAG</td>\n",
       "      <td>90A</td>\n",
       "      <td>22</td>\n",
       "    </tr>\n",
       "    <tr>\n",
       "      <th>1</th>\n",
       "      <td>2020-01-01</td>\n",
       "      <td>TAG</td>\n",
       "      <td>ELDRW</td>\n",
       "      <td>6</td>\n",
       "    </tr>\n",
       "    <tr>\n",
       "      <th>2</th>\n",
       "      <td>2020-01-01</td>\n",
       "      <td>TAG</td>\n",
       "      <td>HDYN</td>\n",
       "      <td>53</td>\n",
       "    </tr>\n",
       "    <tr>\n",
       "      <th>3</th>\n",
       "      <td>2020-01-01</td>\n",
       "      <td>TAG</td>\n",
       "      <td>HDYS</td>\n",
       "      <td>62</td>\n",
       "    </tr>\n",
       "    <tr>\n",
       "      <th>4</th>\n",
       "      <td>2020-01-01</td>\n",
       "      <td>TAG</td>\n",
       "      <td>SAMC</td>\n",
       "      <td>253</td>\n",
       "    </tr>\n",
       "  </tbody>\n",
       "</table>\n",
       "</div>"
      ],
      "text/plain": [
       "  TXN_DATE_15_MIN TRANSACTION_TYPE PLAZA_NAME  TRANSACTION_COUNT\n",
       "0      2020-01-01              TAG        90A                 22\n",
       "1      2020-01-01              TAG      ELDRW                  6\n",
       "2      2020-01-01              TAG       HDYN                 53\n",
       "3      2020-01-01              TAG       HDYS                 62\n",
       "4      2020-01-01              TAG       SAMC                253"
      ]
     },
     "execution_count": 4,
     "metadata": {},
     "output_type": "execute_result"
    }
   ],
   "source": [
    "df.head(5)"
   ]
  },
  {
   "cell_type": "code",
   "execution_count": 5,
   "metadata": {},
   "outputs": [
    {
     "data": {
      "text/html": [
       "<div>\n",
       "<style scoped>\n",
       "    .dataframe tbody tr th:only-of-type {\n",
       "        vertical-align: middle;\n",
       "    }\n",
       "\n",
       "    .dataframe tbody tr th {\n",
       "        vertical-align: top;\n",
       "    }\n",
       "\n",
       "    .dataframe thead th {\n",
       "        text-align: right;\n",
       "    }\n",
       "</style>\n",
       "<table border=\"1\" class=\"dataframe\">\n",
       "  <thead>\n",
       "    <tr style=\"text-align: right;\">\n",
       "      <th></th>\n",
       "      <th>TXN_DATE_15_MIN</th>\n",
       "      <th>TRANSACTION_TYPE</th>\n",
       "      <th>PLAZA_NAME</th>\n",
       "      <th>TRANSACTION_COUNT</th>\n",
       "    </tr>\n",
       "  </thead>\n",
       "  <tbody>\n",
       "    <tr>\n",
       "      <th>1048570</th>\n",
       "      <td>2020-05-24 03:15:00</td>\n",
       "      <td>TAG</td>\n",
       "      <td>SAMS</td>\n",
       "      <td>95</td>\n",
       "    </tr>\n",
       "    <tr>\n",
       "      <th>1048571</th>\n",
       "      <td>2020-05-24 03:15:00</td>\n",
       "      <td>TAG</td>\n",
       "      <td>SAMSE</td>\n",
       "      <td>48</td>\n",
       "    </tr>\n",
       "    <tr>\n",
       "      <th>1048572</th>\n",
       "      <td>2020-05-24 03:15:00</td>\n",
       "      <td>TAG</td>\n",
       "      <td>SAMSW</td>\n",
       "      <td>54</td>\n",
       "    </tr>\n",
       "    <tr>\n",
       "      <th>1048573</th>\n",
       "      <td>2020-05-24 03:15:00</td>\n",
       "      <td>TAG</td>\n",
       "      <td>SHIP</td>\n",
       "      <td>62</td>\n",
       "    </tr>\n",
       "    <tr>\n",
       "      <th>1048574</th>\n",
       "      <td>2020-05-24 03:15:00</td>\n",
       "      <td>TAG</td>\n",
       "      <td>TMB</td>\n",
       "      <td>16</td>\n",
       "    </tr>\n",
       "  </tbody>\n",
       "</table>\n",
       "</div>"
      ],
      "text/plain": [
       "            TXN_DATE_15_MIN TRANSACTION_TYPE PLAZA_NAME  TRANSACTION_COUNT\n",
       "1048570 2020-05-24 03:15:00              TAG       SAMS                 95\n",
       "1048571 2020-05-24 03:15:00              TAG      SAMSE                 48\n",
       "1048572 2020-05-24 03:15:00              TAG      SAMSW                 54\n",
       "1048573 2020-05-24 03:15:00              TAG       SHIP                 62\n",
       "1048574 2020-05-24 03:15:00              TAG        TMB                 16"
      ]
     },
     "execution_count": 5,
     "metadata": {},
     "output_type": "execute_result"
    }
   ],
   "source": [
    "df.tail(5)"
   ]
  },
  {
   "cell_type": "code",
   "execution_count": 6,
   "metadata": {},
   "outputs": [
    {
     "data": {
      "text/html": [
       "<div>\n",
       "<style scoped>\n",
       "    .dataframe tbody tr th:only-of-type {\n",
       "        vertical-align: middle;\n",
       "    }\n",
       "\n",
       "    .dataframe tbody tr th {\n",
       "        vertical-align: top;\n",
       "    }\n",
       "\n",
       "    .dataframe thead th {\n",
       "        text-align: right;\n",
       "    }\n",
       "</style>\n",
       "<table border=\"1\" class=\"dataframe\">\n",
       "  <thead>\n",
       "    <tr style=\"text-align: right;\">\n",
       "      <th></th>\n",
       "      <th>TRANSACTION_COUNT</th>\n",
       "    </tr>\n",
       "  </thead>\n",
       "  <tbody>\n",
       "    <tr>\n",
       "      <th>count</th>\n",
       "      <td>1.048575e+06</td>\n",
       "    </tr>\n",
       "    <tr>\n",
       "      <th>mean</th>\n",
       "      <td>3.745520e+02</td>\n",
       "    </tr>\n",
       "    <tr>\n",
       "      <th>std</th>\n",
       "      <td>5.502883e+02</td>\n",
       "    </tr>\n",
       "    <tr>\n",
       "      <th>min</th>\n",
       "      <td>1.000000e+00</td>\n",
       "    </tr>\n",
       "    <tr>\n",
       "      <th>25%</th>\n",
       "      <td>3.100000e+01</td>\n",
       "    </tr>\n",
       "    <tr>\n",
       "      <th>50%</th>\n",
       "      <td>1.330000e+02</td>\n",
       "    </tr>\n",
       "    <tr>\n",
       "      <th>75%</th>\n",
       "      <td>4.950000e+02</td>\n",
       "    </tr>\n",
       "    <tr>\n",
       "      <th>max</th>\n",
       "      <td>4.149000e+03</td>\n",
       "    </tr>\n",
       "  </tbody>\n",
       "</table>\n",
       "</div>"
      ],
      "text/plain": [
       "       TRANSACTION_COUNT\n",
       "count       1.048575e+06\n",
       "mean        3.745520e+02\n",
       "std         5.502883e+02\n",
       "min         1.000000e+00\n",
       "25%         3.100000e+01\n",
       "50%         1.330000e+02\n",
       "75%         4.950000e+02\n",
       "max         4.149000e+03"
      ]
     },
     "execution_count": 6,
     "metadata": {},
     "output_type": "execute_result"
    }
   ],
   "source": [
    "df.describe()"
   ]
  },
  {
   "cell_type": "code",
   "execution_count": 7,
   "metadata": {},
   "outputs": [
    {
     "data": {
      "text/plain": [
       "(1048575, 4)"
      ]
     },
     "execution_count": 7,
     "metadata": {},
     "output_type": "execute_result"
    }
   ],
   "source": [
    "df.shape"
   ]
  },
  {
   "cell_type": "code",
   "execution_count": 8,
   "metadata": {},
   "outputs": [
    {
     "data": {
      "text/plain": [
       "False"
      ]
     },
     "execution_count": 8,
     "metadata": {},
     "output_type": "execute_result"
    }
   ],
   "source": [
    "df.isnull().values.any()"
   ]
  },
  {
   "cell_type": "code",
   "execution_count": 9,
   "metadata": {},
   "outputs": [
    {
     "name": "stdout",
     "output_type": "stream",
     "text": [
      "['90A' 'ELDRW' 'HDYN' 'HDYS' 'SAMC' 'SAME' 'SAMN' 'SAMNE' 'SAMS' 'SAMSE'\n",
      " 'SAMSW' 'SHIP' 'TMB' 'WIRTE' 'WIRTW' 'WLCRE' 'WLCRW' 'WPT' 'ELDRE' '59N'\n",
      " '45N' 290 '59S' '45S']\n",
      "24\n"
     ]
    }
   ],
   "source": [
    "uniquePlaza = df[\"PLAZA_NAME\"].unique()\n",
    "print(uniquePlaza)\n",
    "print(len(uniquePlaza))"
   ]
  },
  {
   "cell_type": "code",
   "execution_count": 10,
   "metadata": {},
   "outputs": [
    {
     "name": "stdout",
     "output_type": "stream",
     "text": [
      "['TAG' 'VIDEO']\n",
      "2\n"
     ]
    }
   ],
   "source": [
    "uniqueTransactionType = df[\"TRANSACTION_TYPE\"].unique()\n",
    "print(uniqueTransactionType)\n",
    "print(len(uniqueTransactionType))"
   ]
  },
  {
   "cell_type": "code",
   "execution_count": 11,
   "metadata": {},
   "outputs": [
    {
     "data": {
      "text/plain": [
       "Index(['TXN_DATE_15_MIN', 'TRANSACTION_TYPE', 'PLAZA_NAME',\n",
       "       'TRANSACTION_COUNT'],\n",
       "      dtype='object')"
      ]
     },
     "execution_count": 11,
     "metadata": {},
     "output_type": "execute_result"
    }
   ],
   "source": [
    "df.columns"
   ]
  },
  {
   "cell_type": "code",
   "execution_count": 12,
   "metadata": {},
   "outputs": [
    {
     "data": {
      "text/plain": [
       "TXN_DATE_15_MIN      datetime64[ns]\n",
       "TRANSACTION_TYPE             object\n",
       "PLAZA_NAME                   object\n",
       "TRANSACTION_COUNT             int64\n",
       "dtype: object"
      ]
     },
     "execution_count": 12,
     "metadata": {},
     "output_type": "execute_result"
    }
   ],
   "source": [
    "df.dtypes"
   ]
  },
  {
   "cell_type": "code",
   "execution_count": 13,
   "metadata": {},
   "outputs": [
    {
     "data": {
      "text/html": [
       "<div>\n",
       "<style scoped>\n",
       "    .dataframe tbody tr th:only-of-type {\n",
       "        vertical-align: middle;\n",
       "    }\n",
       "\n",
       "    .dataframe tbody tr th {\n",
       "        vertical-align: top;\n",
       "    }\n",
       "\n",
       "    .dataframe thead th {\n",
       "        text-align: right;\n",
       "    }\n",
       "</style>\n",
       "<table border=\"1\" class=\"dataframe\">\n",
       "  <thead>\n",
       "    <tr style=\"text-align: right;\">\n",
       "      <th></th>\n",
       "      <th>TXN_DATE_15_MIN</th>\n",
       "      <th>TRANSACTION_TYPE</th>\n",
       "      <th>PLAZA_NAME</th>\n",
       "      <th>TRANSACTION_COUNT</th>\n",
       "      <th>YEAR</th>\n",
       "      <th>MONTH</th>\n",
       "      <th>DAY</th>\n",
       "      <th>DAY_OF_WEEK</th>\n",
       "      <th>WEEK_DAY</th>\n",
       "    </tr>\n",
       "  </thead>\n",
       "  <tbody>\n",
       "    <tr>\n",
       "      <th>0</th>\n",
       "      <td>2020-01-01</td>\n",
       "      <td>TAG</td>\n",
       "      <td>90A</td>\n",
       "      <td>22</td>\n",
       "      <td>2020</td>\n",
       "      <td>1</td>\n",
       "      <td>1</td>\n",
       "      <td>2</td>\n",
       "      <td>1</td>\n",
       "    </tr>\n",
       "    <tr>\n",
       "      <th>1</th>\n",
       "      <td>2020-01-01</td>\n",
       "      <td>TAG</td>\n",
       "      <td>ELDRW</td>\n",
       "      <td>6</td>\n",
       "      <td>2020</td>\n",
       "      <td>1</td>\n",
       "      <td>1</td>\n",
       "      <td>2</td>\n",
       "      <td>1</td>\n",
       "    </tr>\n",
       "    <tr>\n",
       "      <th>2</th>\n",
       "      <td>2020-01-01</td>\n",
       "      <td>TAG</td>\n",
       "      <td>HDYN</td>\n",
       "      <td>53</td>\n",
       "      <td>2020</td>\n",
       "      <td>1</td>\n",
       "      <td>1</td>\n",
       "      <td>2</td>\n",
       "      <td>1</td>\n",
       "    </tr>\n",
       "    <tr>\n",
       "      <th>3</th>\n",
       "      <td>2020-01-01</td>\n",
       "      <td>TAG</td>\n",
       "      <td>HDYS</td>\n",
       "      <td>62</td>\n",
       "      <td>2020</td>\n",
       "      <td>1</td>\n",
       "      <td>1</td>\n",
       "      <td>2</td>\n",
       "      <td>1</td>\n",
       "    </tr>\n",
       "    <tr>\n",
       "      <th>4</th>\n",
       "      <td>2020-01-01</td>\n",
       "      <td>TAG</td>\n",
       "      <td>SAMC</td>\n",
       "      <td>253</td>\n",
       "      <td>2020</td>\n",
       "      <td>1</td>\n",
       "      <td>1</td>\n",
       "      <td>2</td>\n",
       "      <td>1</td>\n",
       "    </tr>\n",
       "  </tbody>\n",
       "</table>\n",
       "</div>"
      ],
      "text/plain": [
       "  TXN_DATE_15_MIN TRANSACTION_TYPE PLAZA_NAME  TRANSACTION_COUNT  YEAR  MONTH  \\\n",
       "0      2020-01-01              TAG        90A                 22  2020      1   \n",
       "1      2020-01-01              TAG      ELDRW                  6  2020      1   \n",
       "2      2020-01-01              TAG       HDYN                 53  2020      1   \n",
       "3      2020-01-01              TAG       HDYS                 62  2020      1   \n",
       "4      2020-01-01              TAG       SAMC                253  2020      1   \n",
       "\n",
       "   DAY  DAY_OF_WEEK  WEEK_DAY  \n",
       "0    1            2         1  \n",
       "1    1            2         1  \n",
       "2    1            2         1  \n",
       "3    1            2         1  \n",
       "4    1            2         1  "
      ]
     },
     "execution_count": 13,
     "metadata": {},
     "output_type": "execute_result"
    }
   ],
   "source": [
    "# Extract year, month, day and make new columns\n",
    "df['YEAR']=pd.DatetimeIndex(df['TXN_DATE_15_MIN']).year\n",
    "df['MONTH']=pd.DatetimeIndex(df['TXN_DATE_15_MIN']).month\n",
    "df['DAY']=pd.DatetimeIndex(df['TXN_DATE_15_MIN']).day\n",
    "df['DAY_OF_WEEK']=df['TXN_DATE_15_MIN'].dt.dayofweek\n",
    "df['WEEK_DAY']=((pd.DatetimeIndex(df['TXN_DATE_15_MIN']).dayofweek)<5).astype(int)\n",
    "df.head(5)\n"
   ]
  },
  {
   "cell_type": "code",
   "execution_count": 14,
   "metadata": {},
   "outputs": [
    {
     "data": {
      "text/html": [
       "<div>\n",
       "<style scoped>\n",
       "    .dataframe tbody tr th:only-of-type {\n",
       "        vertical-align: middle;\n",
       "    }\n",
       "\n",
       "    .dataframe tbody tr th {\n",
       "        vertical-align: top;\n",
       "    }\n",
       "\n",
       "    .dataframe thead th {\n",
       "        text-align: right;\n",
       "    }\n",
       "</style>\n",
       "<table border=\"1\" class=\"dataframe\">\n",
       "  <thead>\n",
       "    <tr style=\"text-align: right;\">\n",
       "      <th></th>\n",
       "      <th>TXN_DATE_15_MIN</th>\n",
       "      <th>TRANSACTION_TYPE</th>\n",
       "      <th>PLAZA_NAME</th>\n",
       "      <th>TRANSACTION_COUNT</th>\n",
       "      <th>YEAR</th>\n",
       "      <th>MONTH</th>\n",
       "      <th>DAY</th>\n",
       "      <th>DAY_OF_WEEK</th>\n",
       "      <th>WEEK_DAY</th>\n",
       "      <th>HOUR</th>\n",
       "      <th>MINUTE</th>\n",
       "    </tr>\n",
       "  </thead>\n",
       "  <tbody>\n",
       "    <tr>\n",
       "      <th>1048570</th>\n",
       "      <td>2020-05-24 03:15:00</td>\n",
       "      <td>TAG</td>\n",
       "      <td>SAMS</td>\n",
       "      <td>95</td>\n",
       "      <td>2020</td>\n",
       "      <td>5</td>\n",
       "      <td>24</td>\n",
       "      <td>6</td>\n",
       "      <td>0</td>\n",
       "      <td>3</td>\n",
       "      <td>15</td>\n",
       "    </tr>\n",
       "    <tr>\n",
       "      <th>1048571</th>\n",
       "      <td>2020-05-24 03:15:00</td>\n",
       "      <td>TAG</td>\n",
       "      <td>SAMSE</td>\n",
       "      <td>48</td>\n",
       "      <td>2020</td>\n",
       "      <td>5</td>\n",
       "      <td>24</td>\n",
       "      <td>6</td>\n",
       "      <td>0</td>\n",
       "      <td>3</td>\n",
       "      <td>15</td>\n",
       "    </tr>\n",
       "    <tr>\n",
       "      <th>1048572</th>\n",
       "      <td>2020-05-24 03:15:00</td>\n",
       "      <td>TAG</td>\n",
       "      <td>SAMSW</td>\n",
       "      <td>54</td>\n",
       "      <td>2020</td>\n",
       "      <td>5</td>\n",
       "      <td>24</td>\n",
       "      <td>6</td>\n",
       "      <td>0</td>\n",
       "      <td>3</td>\n",
       "      <td>15</td>\n",
       "    </tr>\n",
       "    <tr>\n",
       "      <th>1048573</th>\n",
       "      <td>2020-05-24 03:15:00</td>\n",
       "      <td>TAG</td>\n",
       "      <td>SHIP</td>\n",
       "      <td>62</td>\n",
       "      <td>2020</td>\n",
       "      <td>5</td>\n",
       "      <td>24</td>\n",
       "      <td>6</td>\n",
       "      <td>0</td>\n",
       "      <td>3</td>\n",
       "      <td>15</td>\n",
       "    </tr>\n",
       "    <tr>\n",
       "      <th>1048574</th>\n",
       "      <td>2020-05-24 03:15:00</td>\n",
       "      <td>TAG</td>\n",
       "      <td>TMB</td>\n",
       "      <td>16</td>\n",
       "      <td>2020</td>\n",
       "      <td>5</td>\n",
       "      <td>24</td>\n",
       "      <td>6</td>\n",
       "      <td>0</td>\n",
       "      <td>3</td>\n",
       "      <td>15</td>\n",
       "    </tr>\n",
       "  </tbody>\n",
       "</table>\n",
       "</div>"
      ],
      "text/plain": [
       "            TXN_DATE_15_MIN TRANSACTION_TYPE PLAZA_NAME  TRANSACTION_COUNT  \\\n",
       "1048570 2020-05-24 03:15:00              TAG       SAMS                 95   \n",
       "1048571 2020-05-24 03:15:00              TAG      SAMSE                 48   \n",
       "1048572 2020-05-24 03:15:00              TAG      SAMSW                 54   \n",
       "1048573 2020-05-24 03:15:00              TAG       SHIP                 62   \n",
       "1048574 2020-05-24 03:15:00              TAG        TMB                 16   \n",
       "\n",
       "         YEAR  MONTH  DAY  DAY_OF_WEEK  WEEK_DAY  HOUR  MINUTE  \n",
       "1048570  2020      5   24            6         0     3      15  \n",
       "1048571  2020      5   24            6         0     3      15  \n",
       "1048572  2020      5   24            6         0     3      15  \n",
       "1048573  2020      5   24            6         0     3      15  \n",
       "1048574  2020      5   24            6         0     3      15  "
      ]
     },
     "execution_count": 14,
     "metadata": {},
     "output_type": "execute_result"
    }
   ],
   "source": [
    "# extract hour, minute and make new columns\n",
    "df['HOUR']=pd.DatetimeIndex(df['TXN_DATE_15_MIN']).hour\n",
    "df['MINUTE']=pd.DatetimeIndex(df['TXN_DATE_15_MIN']).minute\n",
    "\n",
    "df.tail(5)"
   ]
  },
  {
   "cell_type": "code",
   "execution_count": 15,
   "metadata": {},
   "outputs": [
    {
     "data": {
      "text/plain": [
       "array([2020, 2021])"
      ]
     },
     "execution_count": 15,
     "metadata": {},
     "output_type": "execute_result"
    }
   ],
   "source": [
    "df[\"HOUR\"].unique()\n",
    "df[\"YEAR\"].unique()"
   ]
  },
  {
   "cell_type": "code",
   "execution_count": 16,
   "metadata": {},
   "outputs": [
    {
     "name": "stderr",
     "output_type": "stream",
     "text": [
      "/Users/tahsin/anaconda3/lib/python3.8/site-packages/pandas/core/indexing.py:671: SettingWithCopyWarning: \n",
      "A value is trying to be set on a copy of a slice from a DataFrame\n",
      "\n",
      "See the caveats in the documentation: https://pandas.pydata.org/pandas-docs/stable/user_guide/indexing.html#returning-a-view-versus-a-copy\n",
      "  self._setitem_with_indexer(indexer, value)\n"
     ]
    },
    {
     "data": {
      "text/html": [
       "<div>\n",
       "<style scoped>\n",
       "    .dataframe tbody tr th:only-of-type {\n",
       "        vertical-align: middle;\n",
       "    }\n",
       "\n",
       "    .dataframe tbody tr th {\n",
       "        vertical-align: top;\n",
       "    }\n",
       "\n",
       "    .dataframe thead th {\n",
       "        text-align: right;\n",
       "    }\n",
       "</style>\n",
       "<table border=\"1\" class=\"dataframe\">\n",
       "  <thead>\n",
       "    <tr style=\"text-align: right;\">\n",
       "      <th></th>\n",
       "      <th>TXN_DATE_15_MIN</th>\n",
       "      <th>TRANSACTION_TYPE</th>\n",
       "      <th>PLAZA_NAME</th>\n",
       "      <th>TRANSACTION_COUNT</th>\n",
       "      <th>YEAR</th>\n",
       "      <th>MONTH</th>\n",
       "      <th>DAY</th>\n",
       "      <th>DAY_OF_WEEK</th>\n",
       "      <th>WEEK_DAY</th>\n",
       "      <th>HOUR</th>\n",
       "      <th>MINUTE</th>\n",
       "      <th>HOLIDAY</th>\n",
       "    </tr>\n",
       "  </thead>\n",
       "  <tbody>\n",
       "    <tr>\n",
       "      <th>0</th>\n",
       "      <td>2020-01-01</td>\n",
       "      <td>TAG</td>\n",
       "      <td>90A</td>\n",
       "      <td>22</td>\n",
       "      <td>2020</td>\n",
       "      <td>1</td>\n",
       "      <td>1</td>\n",
       "      <td>2</td>\n",
       "      <td>0</td>\n",
       "      <td>0</td>\n",
       "      <td>0</td>\n",
       "      <td>1</td>\n",
       "    </tr>\n",
       "    <tr>\n",
       "      <th>1</th>\n",
       "      <td>2020-01-01</td>\n",
       "      <td>TAG</td>\n",
       "      <td>ELDRW</td>\n",
       "      <td>6</td>\n",
       "      <td>2020</td>\n",
       "      <td>1</td>\n",
       "      <td>1</td>\n",
       "      <td>2</td>\n",
       "      <td>0</td>\n",
       "      <td>0</td>\n",
       "      <td>0</td>\n",
       "      <td>1</td>\n",
       "    </tr>\n",
       "    <tr>\n",
       "      <th>2</th>\n",
       "      <td>2020-01-01</td>\n",
       "      <td>TAG</td>\n",
       "      <td>HDYN</td>\n",
       "      <td>53</td>\n",
       "      <td>2020</td>\n",
       "      <td>1</td>\n",
       "      <td>1</td>\n",
       "      <td>2</td>\n",
       "      <td>0</td>\n",
       "      <td>0</td>\n",
       "      <td>0</td>\n",
       "      <td>1</td>\n",
       "    </tr>\n",
       "    <tr>\n",
       "      <th>3</th>\n",
       "      <td>2020-01-01</td>\n",
       "      <td>TAG</td>\n",
       "      <td>HDYS</td>\n",
       "      <td>62</td>\n",
       "      <td>2020</td>\n",
       "      <td>1</td>\n",
       "      <td>1</td>\n",
       "      <td>2</td>\n",
       "      <td>0</td>\n",
       "      <td>0</td>\n",
       "      <td>0</td>\n",
       "      <td>1</td>\n",
       "    </tr>\n",
       "    <tr>\n",
       "      <th>4</th>\n",
       "      <td>2020-01-01</td>\n",
       "      <td>TAG</td>\n",
       "      <td>SAMC</td>\n",
       "      <td>253</td>\n",
       "      <td>2020</td>\n",
       "      <td>1</td>\n",
       "      <td>1</td>\n",
       "      <td>2</td>\n",
       "      <td>0</td>\n",
       "      <td>0</td>\n",
       "      <td>0</td>\n",
       "      <td>1</td>\n",
       "    </tr>\n",
       "  </tbody>\n",
       "</table>\n",
       "</div>"
      ],
      "text/plain": [
       "  TXN_DATE_15_MIN TRANSACTION_TYPE PLAZA_NAME  TRANSACTION_COUNT  YEAR  MONTH  \\\n",
       "0      2020-01-01              TAG        90A                 22  2020      1   \n",
       "1      2020-01-01              TAG      ELDRW                  6  2020      1   \n",
       "2      2020-01-01              TAG       HDYN                 53  2020      1   \n",
       "3      2020-01-01              TAG       HDYS                 62  2020      1   \n",
       "4      2020-01-01              TAG       SAMC                253  2020      1   \n",
       "\n",
       "   DAY  DAY_OF_WEEK  WEEK_DAY  HOUR  MINUTE  HOLIDAY  \n",
       "0    1            2         0     0       0        1  \n",
       "1    1            2         0     0       0        1  \n",
       "2    1            2         0     0       0        1  \n",
       "3    1            2         0     0       0        1  \n",
       "4    1            2         0     0       0        1  "
      ]
     },
     "execution_count": 16,
     "metadata": {},
     "output_type": "execute_result"
    }
   ],
   "source": [
    "from pandas.tseries.holiday import USFederalHolidayCalendar as calendar\n",
    "cal = calendar()\n",
    "holidays = cal.holidays(start=df['TXN_DATE_15_MIN'].dt.date.min(),end = df['TXN_DATE_15_MIN'].dt.date.max())\n",
    "df['HOLIDAY'] = df['TXN_DATE_15_MIN'].dt.date.astype('datetime64').isin(holidays).astype(int)\n",
    "df['WEEK_DAY'].loc[df[\"HOLIDAY\"]==1]=0\n",
    "df.head(5)"
   ]
  },
  {
   "cell_type": "code",
   "execution_count": 17,
   "metadata": {},
   "outputs": [
    {
     "name": "stdout",
     "output_type": "stream",
     "text": [
      "TXN_DATE_15_MIN      19583\n",
      "TRANSACTION_TYPE     19583\n",
      "PLAZA_NAME           19583\n",
      "TRANSACTION_COUNT    19583\n",
      "YEAR                 19583\n",
      "MONTH                19583\n",
      "DAY                  19583\n",
      "DAY_OF_WEEK          19583\n",
      "WEEK_DAY             19583\n",
      "HOUR                 19583\n",
      "MINUTE               19583\n",
      "HOLIDAY              19583\n",
      "dtype: int64\n",
      "TXN_DATE_15_MIN      738225\n",
      "TRANSACTION_TYPE     738225\n",
      "PLAZA_NAME           738225\n",
      "TRANSACTION_COUNT    738225\n",
      "YEAR                 738225\n",
      "MONTH                738225\n",
      "DAY                  738225\n",
      "DAY_OF_WEEK          738225\n",
      "WEEK_DAY             738225\n",
      "HOUR                 738225\n",
      "MINUTE               738225\n",
      "HOLIDAY              738225\n",
      "dtype: int64\n"
     ]
    }
   ],
   "source": [
    "print(df[df.HOLIDAY==1].count())\n",
    "print(df[df.WEEK_DAY==1].count())\n"
   ]
  },
  {
   "cell_type": "code",
   "execution_count": 18,
   "metadata": {},
   "outputs": [
    {
     "data": {
      "text/html": [
       "<div>\n",
       "<style scoped>\n",
       "    .dataframe tbody tr th:only-of-type {\n",
       "        vertical-align: middle;\n",
       "    }\n",
       "\n",
       "    .dataframe tbody tr th {\n",
       "        vertical-align: top;\n",
       "    }\n",
       "\n",
       "    .dataframe thead th {\n",
       "        text-align: right;\n",
       "    }\n",
       "</style>\n",
       "<table border=\"1\" class=\"dataframe\">\n",
       "  <thead>\n",
       "    <tr style=\"text-align: right;\">\n",
       "      <th></th>\n",
       "      <th>TRANSACTION_TYPE</th>\n",
       "      <th>PLAZA_NAME</th>\n",
       "      <th>TRANSACTION_COUNT</th>\n",
       "      <th>YEAR</th>\n",
       "      <th>MONTH</th>\n",
       "      <th>DAY</th>\n",
       "      <th>DAY_OF_WEEK</th>\n",
       "      <th>WEEK_DAY</th>\n",
       "      <th>HOUR</th>\n",
       "      <th>MINUTE</th>\n",
       "    </tr>\n",
       "  </thead>\n",
       "  <tbody>\n",
       "    <tr>\n",
       "      <th>0</th>\n",
       "      <td>TAG</td>\n",
       "      <td>90A</td>\n",
       "      <td>22</td>\n",
       "      <td>2020</td>\n",
       "      <td>1</td>\n",
       "      <td>1</td>\n",
       "      <td>2</td>\n",
       "      <td>0</td>\n",
       "      <td>0</td>\n",
       "      <td>0</td>\n",
       "    </tr>\n",
       "    <tr>\n",
       "      <th>1</th>\n",
       "      <td>TAG</td>\n",
       "      <td>ELDRW</td>\n",
       "      <td>6</td>\n",
       "      <td>2020</td>\n",
       "      <td>1</td>\n",
       "      <td>1</td>\n",
       "      <td>2</td>\n",
       "      <td>0</td>\n",
       "      <td>0</td>\n",
       "      <td>0</td>\n",
       "    </tr>\n",
       "    <tr>\n",
       "      <th>2</th>\n",
       "      <td>TAG</td>\n",
       "      <td>HDYN</td>\n",
       "      <td>53</td>\n",
       "      <td>2020</td>\n",
       "      <td>1</td>\n",
       "      <td>1</td>\n",
       "      <td>2</td>\n",
       "      <td>0</td>\n",
       "      <td>0</td>\n",
       "      <td>0</td>\n",
       "    </tr>\n",
       "    <tr>\n",
       "      <th>3</th>\n",
       "      <td>TAG</td>\n",
       "      <td>HDYS</td>\n",
       "      <td>62</td>\n",
       "      <td>2020</td>\n",
       "      <td>1</td>\n",
       "      <td>1</td>\n",
       "      <td>2</td>\n",
       "      <td>0</td>\n",
       "      <td>0</td>\n",
       "      <td>0</td>\n",
       "    </tr>\n",
       "    <tr>\n",
       "      <th>4</th>\n",
       "      <td>TAG</td>\n",
       "      <td>SAMC</td>\n",
       "      <td>253</td>\n",
       "      <td>2020</td>\n",
       "      <td>1</td>\n",
       "      <td>1</td>\n",
       "      <td>2</td>\n",
       "      <td>0</td>\n",
       "      <td>0</td>\n",
       "      <td>0</td>\n",
       "    </tr>\n",
       "  </tbody>\n",
       "</table>\n",
       "</div>"
      ],
      "text/plain": [
       "  TRANSACTION_TYPE PLAZA_NAME  TRANSACTION_COUNT  YEAR  MONTH  DAY  \\\n",
       "0              TAG        90A                 22  2020      1    1   \n",
       "1              TAG      ELDRW                  6  2020      1    1   \n",
       "2              TAG       HDYN                 53  2020      1    1   \n",
       "3              TAG       HDYS                 62  2020      1    1   \n",
       "4              TAG       SAMC                253  2020      1    1   \n",
       "\n",
       "   DAY_OF_WEEK  WEEK_DAY  HOUR  MINUTE  \n",
       "0            2         0     0       0  \n",
       "1            2         0     0       0  \n",
       "2            2         0     0       0  \n",
       "3            2         0     0       0  \n",
       "4            2         0     0       0  "
      ]
     },
     "execution_count": 18,
     "metadata": {},
     "output_type": "execute_result"
    }
   ],
   "source": [
    "df = df.drop([\"TXN_DATE_15_MIN\",\"HOLIDAY\"],axis=1)\n",
    "df.head(5)"
   ]
  },
  {
   "cell_type": "code",
   "execution_count": 20,
   "metadata": {},
   "outputs": [
    {
     "name": "stdout",
     "output_type": "stream",
     "text": [
      "DatetimeIndex(['2020-01-01', '2020-01-20', '2020-02-17', '2020-05-25',\n",
      "               '2020-07-03', '2020-09-07', '2020-10-12', '2020-11-11',\n",
      "               '2020-11-26', '2020-12-25', '2021-01-01', '2021-01-18',\n",
      "               '2021-02-15'],\n",
      "              dtype='datetime64[ns]', freq=None)\n"
     ]
    }
   ],
   "source": [
    "print(holidays)\n",
    "#k = df['TXN_DATE_15_MIN'].dt.date.astype('datetime64').isin(holidays)\n",
    "#print(k)"
   ]
  },
  {
   "cell_type": "code",
   "execution_count": 21,
   "metadata": {},
   "outputs": [
    {
     "data": {
      "text/plain": [
       "Index(['TRANSACTION_TYPE', 'PLAZA_NAME', 'TRANSACTION_COUNT', 'YEAR', 'MONTH',\n",
       "       'DAY', 'DAY_OF_WEEK', 'WEEK_DAY', 'HOUR', 'MINUTE'],\n",
       "      dtype='object')"
      ]
     },
     "execution_count": 21,
     "metadata": {},
     "output_type": "execute_result"
    }
   ],
   "source": [
    "df.columns"
   ]
  },
  {
   "cell_type": "code",
   "execution_count": 22,
   "metadata": {},
   "outputs": [],
   "source": [
    "df = df [['YEAR', 'MONTH', 'DAY', 'HOUR','MINUTE', 'DAY_OF_WEEK', 'WEEK_DAY','TRANSACTION_TYPE', 'PLAZA_NAME',\n",
    "          'TRANSACTION_COUNT' ]]"
   ]
  },
  {
   "cell_type": "code",
   "execution_count": 23,
   "metadata": {},
   "outputs": [
    {
     "data": {
      "text/html": [
       "<div>\n",
       "<style scoped>\n",
       "    .dataframe tbody tr th:only-of-type {\n",
       "        vertical-align: middle;\n",
       "    }\n",
       "\n",
       "    .dataframe tbody tr th {\n",
       "        vertical-align: top;\n",
       "    }\n",
       "\n",
       "    .dataframe thead th {\n",
       "        text-align: right;\n",
       "    }\n",
       "</style>\n",
       "<table border=\"1\" class=\"dataframe\">\n",
       "  <thead>\n",
       "    <tr style=\"text-align: right;\">\n",
       "      <th></th>\n",
       "      <th>YEAR</th>\n",
       "      <th>MONTH</th>\n",
       "      <th>DAY</th>\n",
       "      <th>HOUR</th>\n",
       "      <th>MINUTE</th>\n",
       "      <th>DAY_OF_WEEK</th>\n",
       "      <th>WEEK_DAY</th>\n",
       "      <th>TRANSACTION_TYPE</th>\n",
       "      <th>PLAZA_NAME</th>\n",
       "      <th>TRANSACTION_COUNT</th>\n",
       "    </tr>\n",
       "  </thead>\n",
       "  <tbody>\n",
       "    <tr>\n",
       "      <th>0</th>\n",
       "      <td>2020</td>\n",
       "      <td>1</td>\n",
       "      <td>1</td>\n",
       "      <td>0</td>\n",
       "      <td>0</td>\n",
       "      <td>2</td>\n",
       "      <td>0</td>\n",
       "      <td>TAG</td>\n",
       "      <td>90A</td>\n",
       "      <td>22</td>\n",
       "    </tr>\n",
       "    <tr>\n",
       "      <th>1</th>\n",
       "      <td>2020</td>\n",
       "      <td>1</td>\n",
       "      <td>1</td>\n",
       "      <td>0</td>\n",
       "      <td>0</td>\n",
       "      <td>2</td>\n",
       "      <td>0</td>\n",
       "      <td>TAG</td>\n",
       "      <td>ELDRW</td>\n",
       "      <td>6</td>\n",
       "    </tr>\n",
       "    <tr>\n",
       "      <th>2</th>\n",
       "      <td>2020</td>\n",
       "      <td>1</td>\n",
       "      <td>1</td>\n",
       "      <td>0</td>\n",
       "      <td>0</td>\n",
       "      <td>2</td>\n",
       "      <td>0</td>\n",
       "      <td>TAG</td>\n",
       "      <td>HDYN</td>\n",
       "      <td>53</td>\n",
       "    </tr>\n",
       "    <tr>\n",
       "      <th>3</th>\n",
       "      <td>2020</td>\n",
       "      <td>1</td>\n",
       "      <td>1</td>\n",
       "      <td>0</td>\n",
       "      <td>0</td>\n",
       "      <td>2</td>\n",
       "      <td>0</td>\n",
       "      <td>TAG</td>\n",
       "      <td>HDYS</td>\n",
       "      <td>62</td>\n",
       "    </tr>\n",
       "    <tr>\n",
       "      <th>4</th>\n",
       "      <td>2020</td>\n",
       "      <td>1</td>\n",
       "      <td>1</td>\n",
       "      <td>0</td>\n",
       "      <td>0</td>\n",
       "      <td>2</td>\n",
       "      <td>0</td>\n",
       "      <td>TAG</td>\n",
       "      <td>SAMC</td>\n",
       "      <td>253</td>\n",
       "    </tr>\n",
       "  </tbody>\n",
       "</table>\n",
       "</div>"
      ],
      "text/plain": [
       "   YEAR  MONTH  DAY  HOUR  MINUTE  DAY_OF_WEEK  WEEK_DAY TRANSACTION_TYPE  \\\n",
       "0  2020      1    1     0       0            2         0              TAG   \n",
       "1  2020      1    1     0       0            2         0              TAG   \n",
       "2  2020      1    1     0       0            2         0              TAG   \n",
       "3  2020      1    1     0       0            2         0              TAG   \n",
       "4  2020      1    1     0       0            2         0              TAG   \n",
       "\n",
       "  PLAZA_NAME  TRANSACTION_COUNT  \n",
       "0        90A                 22  \n",
       "1      ELDRW                  6  \n",
       "2       HDYN                 53  \n",
       "3       HDYS                 62  \n",
       "4       SAMC                253  "
      ]
     },
     "execution_count": 23,
     "metadata": {},
     "output_type": "execute_result"
    }
   ],
   "source": [
    "df.head(5)"
   ]
  },
  {
   "cell_type": "code",
   "execution_count": 24,
   "metadata": {},
   "outputs": [
    {
     "data": {
      "text/plain": [
       "array([1, 2, 3, 4, 5])"
      ]
     },
     "execution_count": 24,
     "metadata": {},
     "output_type": "execute_result"
    }
   ],
   "source": [
    "df.shape\n",
    "df.MONTH.unique()"
   ]
  },
  {
   "cell_type": "code",
   "execution_count": 25,
   "metadata": {},
   "outputs": [],
   "source": [
    "df.to_csv(\"/Users/tahsin/Documents/HCTRA/Updated_Transactions_by_date_type_loc.csv\", index = False)"
   ]
  },
  {
   "cell_type": "code",
   "execution_count": 26,
   "metadata": {},
   "outputs": [
    {
     "data": {
      "image/png": "[encoded data removed]",
      "text/plain": [
       "<Figure size 432x288 with 2 Axes>"
      ]
     },
     "metadata": {
      "needs_background": "light"
     },
     "output_type": "display_data"
    }
   ],
   "source": [
    "import seaborn as sns\n",
    "import matplotlib.pyplot as plt\n",
    "\n",
    "#correaltion matrix\n",
    "numeric_features = df.select_dtypes(include=[np.number])\n",
    "corr_matrix = numeric_features.corr()\n",
    "sns.heatmap(corr_matrix, vmax=.8, annot=True)\n",
    "plt.show()"
   ]
  },
  {
   "cell_type": "code",
   "execution_count": 27,
   "metadata": {},
   "outputs": [
    {
     "data": {
      "image/png": "[encoded data removed]",
      "text/plain": [
       "<Figure size 432x288 with 1 Axes>"
      ]
     },
     "metadata": {
      "needs_background": "light"
     },
     "output_type": "display_data"
    }
   ],
   "source": [
    "df_2020 = df[df[\"YEAR\"]==2020]\n",
    "plt.scatter(x=df_2020['MONTH'], y=df_2020['TRANSACTION_COUNT'])\n",
    "plt.ylabel('Transaction count')\n",
    "plt.xlabel('Month, Year 2020')\n",
    "plt.show()"
   ]
  },
  {
   "cell_type": "markdown",
   "metadata": {},
   "source": [
    "### Transaction count per month in 2020 and 2021"
   ]
  },
  {
   "cell_type": "code",
   "execution_count": 28,
   "metadata": {},
   "outputs": [
    {
     "name": "stdout",
     "output_type": "stream",
     "text": [
      "       PERCENTAGE_CHANGE\n",
      "MONTH                   \n",
      "1              -9.239687\n",
      "2             -24.487286\n",
      "3              30.352216\n",
      "4              57.374254\n",
      "5              46.544800\n"
     ]
    }
   ],
   "source": [
    "df_transac_by_month = df.groupby(['YEAR','MONTH'])['TRANSACTION_COUNT'].sum().reset_index()\n",
    "#print(df_transac_by_month)\n",
    "\n",
    "df_transac_by_month_2020 = df_transac_by_month.loc[df_transac_by_month[\"YEAR\"]==2020].set_index(\"MONTH\")\n",
    "df_transac_by_month_2021 = df_transac_by_month.loc[df_transac_by_month[\"YEAR\"]==2021].set_index(\"MONTH\")\n",
    "#print(df_transac_by_month_2020,df_transac_by_month_2021)\n",
    "\n",
    "#df_percentage_change = df_transac_by_month_2020[[\"MONTH\"]]\n",
    "df_percentage_change = pd.DataFrame()\n",
    "#df_percentage_change[\"MONTHS\"] = pd.Series([*range(1,6,1)])\n",
    "df_percentage_change[\"PERCENTAGE_CHANGE\"] = 100*((df_transac_by_month_2021[\"TRANSACTION_COUNT\"] - df_transac_by_month_2020[\"TRANSACTION_COUNT\"])/df_transac_by_month_2020[\"TRANSACTION_COUNT\"])\n",
    "print(df_percentage_change)\n"
   ]
  },
  {
   "cell_type": "code",
   "execution_count": 77,
   "metadata": {},
   "outputs": [
    {
     "data": {
      "image/png": "[encoded data removed]",
      "text/plain": [
       "<Figure size 432x288 with 1 Axes>"
      ]
     },
     "metadata": {
      "needs_background": "light"
     },
     "output_type": "display_data"
    },
    {
     "data": {
      "image/png": "[encoded data removed]",
      "text/plain": [
       "<Figure size 432x288 with 1 Axes>"
      ]
     },
     "metadata": {
      "needs_background": "light"
     },
     "output_type": "display_data"
    }
   ],
   "source": [
    "ax = sns.barplot(x=df_transac_by_month['MONTH'],y=df_transac_by_month['TRANSACTION_COUNT'],hue=df_transac_by_month[\"YEAR\"])\n",
    "plt.title(\"Total Transaction count per month in 2020 and 2021\")\n",
    "plt.tight_layout()\n",
    "plt.show()\n",
    "\n",
    "#ax2 = sns.distplot(df_percentage_change[\"PERCENTAGE_CHANGE\"])\n",
    "#plt.plot(df_percentage_change[\"PERCENTAGE_CHANGE\"])\n",
    "ax = sns.barplot(x=[*range(1,6,1)],y=df_percentage_change['PERCENTAGE_CHANGE'])\n",
    "plt.title(\"Percentage change in transaction per month: 2021 vs 2020\")\n",
    "plt.show()"
   ]
  },
  {
   "cell_type": "code",
   "execution_count": 30,
   "metadata": {},
   "outputs": [
    {
     "name": "stdout",
     "output_type": "stream",
     "text": [
      "   YEAR  TRANSACTION_COUNT         AVG\n",
      "0  2020          183250424  36650084.8\n",
      "1  2021          209495486  41899097.2\n"
     ]
    }
   ],
   "source": [
    "# Average and total trasaction per year\n",
    "df_transac_by_year = df.groupby(['YEAR'])['TRANSACTION_COUNT'].sum().reset_index()\n",
    "df_transac_by_year[\"AVG\"] = df_transac_by_year['TRANSACTION_COUNT']/5\n",
    "print(df_transac_by_year)\n",
    "\n"
   ]
  },
  {
   "cell_type": "code",
   "execution_count": 31,
   "metadata": {},
   "outputs": [
    {
     "data": {
      "image/png": "[encoded data removed]",
      "text/plain": [
       "<Figure size 648x288 with 2 Axes>"
      ]
     },
     "metadata": {
      "needs_background": "light"
     },
     "output_type": "display_data"
    }
   ],
   "source": [
    "#fig = plt.figure()\n",
    "#ax1 = fig.add_subplot(1, 2, 1)\n",
    "#ax2 = fig.add_subplot(1, 2, 2)\n",
    "\n",
    "fig , axes = plt.subplots(1,2, figsize = (9,4), sharey = True)\n",
    "\n",
    "sns.barplot(ax=axes[0], x = \"YEAR\", y = \"TRANSACTION_COUNT\", data = df_transac_by_year)\n",
    "#ax1.plot(df_transac_by_year[\"YEAR\"],df_transac_by_year['TRANSACTION_COUNT'])\n",
    "axes[0].set_title(\"Total trans per Year (Jan - May)\")\n",
    "\n",
    "sns.barplot(ax= axes[1], x = \"YEAR\", y = \"AVG\", data = df_transac_by_year)\n",
    "axes[1].set_title(\"Avg trans per month per Year (Jan - May)\")\n",
    "\n",
    "\n",
    "#plt.tight_layout()\n",
    "plt.show()"
   ]
  },
  {
   "cell_type": "markdown",
   "metadata": {},
   "source": [
    "### Types of Transactions"
   ]
  },
  {
   "cell_type": "code",
   "execution_count": 72,
   "metadata": {},
   "outputs": [
    {
     "name": "stdout",
     "output_type": "stream",
     "text": [
      "  TRANSACTION_TYPE  YEAR  TRANSACTION_COUNT\n",
      "0              TAG  2020          135629051\n",
      "1              TAG  2021          134517904\n",
      "2            VIDEO  2020           47621373\n",
      "3            VIDEO  2021           74977582\n"
     ]
    }
   ],
   "source": [
    "df_transac_by_type = df.groupby(['TRANSACTION_TYPE','YEAR'])['TRANSACTION_COUNT'].sum().reset_index()\n",
    "print(df_transac_by_type)\n",
    "#print(df.TRANSACTION_COUNT.sum())\n",
    "#print(df_transac_by_type.TRANSACTION_COUNT.sum())\n"
   ]
  },
  {
   "cell_type": "code",
   "execution_count": 74,
   "metadata": {},
   "outputs": [
    {
     "data": {
      "text/plain": [
       "Text(0.5, 1.0, 'Total Transactions per Year by Type (Tag/Video) ')"
      ]
     },
     "execution_count": 74,
     "metadata": {},
     "output_type": "execute_result"
    },
    {
     "data": {
      "image/png": "[encoded data removed]",
      "text/plain": [
       "<Figure size 432x288 with 1 Axes>"
      ]
     },
     "metadata": {
      "needs_background": "light"
     },
     "output_type": "display_data"
    }
   ],
   "source": [
    "sns.barplot(x = \"TRANSACTION_TYPE\", y = \"TRANSACTION_COUNT\", hue=\"YEAR\", data = df_transac_by_type, palette = \"plasma\")\n",
    "plt.title(\"Total Transactions per Year by Type (Tag/Video) \")"
   ]
  },
  {
   "cell_type": "code",
   "execution_count": 81,
   "metadata": {},
   "outputs": [
    {
     "name": "stdout",
     "output_type": "stream",
     "text": [
      "   TRANSACTION_TYPE  YEAR  MONTH  TRANSACTION_COUNT\n",
      "0               TAG  2020      1           35968288\n",
      "1               TAG  2020      2           35268723\n",
      "2               TAG  2020      3           28080749\n",
      "3               TAG  2020      4           19373463\n",
      "4               TAG  2020      5           16937828\n",
      "5               TAG  2021      1           26352343\n",
      "6               TAG  2021      2           21376449\n",
      "7               TAG  2021      3           31664734\n",
      "8               TAG  2021      4           31453585\n",
      "9               TAG  2021      5           23670793\n",
      "10            VIDEO  2020      1            8872334\n",
      "11            VIDEO  2020      2            8748503\n",
      "12            VIDEO  2020      3            9864345\n",
      "13            VIDEO  2020      4           11803312\n",
      "14            VIDEO  2020      5            8332879\n",
      "15            VIDEO  2021      1           14345146\n",
      "16            VIDEO  2021      2           11862153\n",
      "17            VIDEO  2021      3           17797537\n",
      "18            VIDEO  2021      4           17610632\n",
      "19            VIDEO  2021      5           13362114\n"
     ]
    }
   ],
   "source": [
    "df_transac_by_type_month = df.groupby(['TRANSACTION_TYPE','YEAR','MONTH'])['TRANSACTION_COUNT'].sum().reset_index()\n",
    "df_transac_by_video_month = df_transac_by_type_month[df_transac_by_type_month[\"TRANSACTION_TYPE\"]==\"VIDEO\"]\n",
    "df_transac_by_tag_month = df_transac_by_type_month[df_transac_by_type_month[\"TRANSACTION_TYPE\"]==\"TAG\"]\n",
    "print(df_transac_by_type_month)"
   ]
  },
  {
   "cell_type": "code",
   "execution_count": 85,
   "metadata": {},
   "outputs": [
    {
     "data": {
      "image/png": "[encoded data removed]",
      "text/plain": [
       "<Figure size 432x288 with 1 Axes>"
      ]
     },
     "metadata": {
      "needs_background": "light"
     },
     "output_type": "display_data"
    },
    {
     "data": {
      "image/png": "[encoded data removed]",
      "text/plain": [
       "<Figure size 432x288 with 1 Axes>"
      ]
     },
     "metadata": {
      "needs_background": "light"
     },
     "output_type": "display_data"
    }
   ],
   "source": [
    "sns.barplot(x = \"MONTH\", y = \"TRANSACTION_COUNT\", hue=\"YEAR\", data = df_transac_by_video_month, palette=\"hls\")\n",
    "plt.title(\"Total Video Transactions per Month: 2020 vs 2021\")\n",
    "plt.show()\n",
    "\n",
    "sns.barplot(x = \"MONTH\", y = \"TRANSACTION_COUNT\", hue=\"YEAR\", data = df_transac_by_tag_month, palette=\"Accent\")\n",
    "plt.title(\"Total TAG Transactions per Month: 2020 vs 2021\")\n",
    "plt.show()"
   ]
  },
  {
   "cell_type": "markdown",
   "metadata": {},
   "source": [
    "### Total Transactions per Day of week "
   ]
  },
  {
   "cell_type": "code",
   "execution_count": 90,
   "metadata": {},
   "outputs": [
    {
     "name": "stdout",
     "output_type": "stream",
     "text": [
      "   DAY_OF_WEEK  TRANSACTION_COUNT\n",
      "0            0           57470593\n",
      "1            1           59549628\n",
      "2            2           60360797\n",
      "3            3           63483128\n",
      "4            4           67439783\n",
      "5            5           49101033\n",
      "6            6           35340948\n"
     ]
    }
   ],
   "source": [
    "df_transac_by_day = df.groupby(['DAY_OF_WEEK'])['TRANSACTION_COUNT'].sum().reset_index()\n",
    "print(df_transac_by_day)"
   ]
  },
  {
   "cell_type": "code",
   "execution_count": 91,
   "metadata": {},
   "outputs": [
    {
     "data": {
      "text/plain": [
       "Text(0.5, 1.0, 'Total Transactions per Day (0=Monday, 6=Sunday)')"
      ]
     },
     "execution_count": 91,
     "metadata": {},
     "output_type": "execute_result"
    },
    {
     "data": {
      "image/png": "[encoded data removed]",
      "text/plain": [
       "<Figure size 432x288 with 1 Axes>"
      ]
     },
     "metadata": {
      "needs_background": "light"
     },
     "output_type": "display_data"
    }
   ],
   "source": [
    "sns.barplot(x = \"DAY_OF_WEEK\", y = \"TRANSACTION_COUNT\", data = df_transac_by_day)\n",
    "plt.title(\"Total Transactions per Day (0=Monday, 6=Sunday)\")"
   ]
  },
  {
   "cell_type": "code",
   "execution_count": 93,
   "metadata": {},
   "outputs": [],
   "source": [
    "df_video = df[df[\"TRANSACTION_TYPE\"]==\"VIDEO\"]\n",
    "df_transac_by_day_video = df_video.groupby(['DAY_OF_WEEK'])['TRANSACTION_COUNT'].sum().reset_index()"
   ]
  },
  {
   "cell_type": "code",
   "execution_count": 95,
   "metadata": {},
   "outputs": [
    {
     "data": {
      "text/plain": [
       "Text(0.5, 1.0, 'Total Video Transactions per Day (0=Monday, 6=Sunday)')"
      ]
     },
     "execution_count": 95,
     "metadata": {},
     "output_type": "execute_result"
    },
    {
     "data": {
      "image/png": "[encoded data removed]",
      "text/plain": [
       "<Figure size 432x288 with 1 Axes>"
      ]
     },
     "metadata": {
      "needs_background": "light"
     },
     "output_type": "display_data"
    }
   ],
   "source": [
    "sns.barplot(x = \"DAY_OF_WEEK\", y = \"TRANSACTION_COUNT\", data = df_transac_by_day_video)\n",
    "plt.title(\"Total Video Transactions per Day (0=Monday, 6=Sunday)\")"
   ]
  },
  {
   "cell_type": "code",
   "execution_count": null,
   "metadata": {},
   "outputs": [],
   "source": []
  }
 ],
 "metadata": {
  "kernelspec": {
   "display_name": "Python 3",
   "language": "python",
   "name": "python3"
  },
  "language_info": {
   "codemirror_mode": {
    "name": "ipython",
    "version": 3
   },
   "file_extension": ".py",
   "mimetype": "text/x-python",
   "name": "python",
   "nbconvert_exporter": "python",
   "pygments_lexer": "ipython3",
   "version": "3.8.3"
  }
 },
 "nbformat": 4,
 "nbformat_minor": 4
}
